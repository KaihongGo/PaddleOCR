{
 "cells": [
  {
   "cell_type": "markdown",
   "metadata": {},
   "source": [
    "按照Paddle的处理方式进行可视化XFUND。XFUND采用Paddle标注格式"
   ]
  },
  {
   "cell_type": "code",
   "execution_count": 51,
   "metadata": {},
   "outputs": [
    {
     "name": "stderr",
     "output_type": "stream",
     "text": [
      "Corrupt JPEG data: premature end of data segment\n"
     ]
    }
   ],
   "source": [
    "import json\n",
    "from ppocr.utils.visual import draw_re_results\n",
    "import numpy as np\n",
    "import cv2\n",
    "import os\n",
    "\n",
    "\n",
    "def trans_poly_to_bbox(poly):\n",
    "    x1 = int(np.min([p[0] for p in poly]))\n",
    "    x2 = int(np.max([p[0] for p in poly]))\n",
    "    y1 = int(np.min([p[1] for p in poly]))\n",
    "    y2 = int(np.max([p[1] for p in poly]))\n",
    "    return [x1, y1, x2, y2]\n",
    "\n",
    "\n",
    "def draw_labels(ocr_infos, image):\n",
    "    my_relations = []\n",
    "\n",
    "    ocr_infos = [info for info in ocr_infos if len(info[\"transcription\"]) > 0]\n",
    "\n",
    "    # class VQATokenLabelEncode\n",
    "    relations = []\n",
    "    id_ocr_infos = {}\n",
    "    for info in ocr_infos:\n",
    "        info[\"bbox\"] = trans_poly_to_bbox(info[\"points\"])\n",
    "        id_ocr_infos[info[\"id\"]] = info\n",
    "        relations.extend([tuple(sorted(l)) for l in info[\"linking\"]])\n",
    "\n",
    "    relations = list(set(relations))\n",
    "    relations = sorted(relations)\n",
    "\n",
    "    result = []\n",
    "    for head, tail in relations:\n",
    "        pair = [id_ocr_infos[head]['label'], id_ocr_infos[tail]['label']]\n",
    "        if pair == [\"answer\", \"question\"]:\n",
    "            head, tail = tail, head\n",
    "            my_relations.append((head, tail))\n",
    "        elif pair == [\"question\", \"answer\"]:\n",
    "            my_relations.append((head, tail))\n",
    "            pass\n",
    "        else:\n",
    "            # print(\"Error: \", pair)\n",
    "            pass\n",
    "        ocr_info_head = id_ocr_infos[head]\n",
    "        ocr_info_tail = id_ocr_infos[tail]\n",
    "        result.append((ocr_info_head, ocr_info_tail))\n",
    "\n",
    "    canvas = draw_re_results(image, result)\n",
    "    from PIL import Image\n",
    "\n",
    "    my_relations = sorted(list(set(my_relations)))\n",
    "    from collections import defaultdict\n",
    "    groups = defaultdict(list)\n",
    "    for head, tail in my_relations:\n",
    "        groups[tail].append(head)\n",
    "\n",
    "    for tail, heads in groups.items():\n",
    "        if len(heads) > 1:\n",
    "            print(tail, heads)\n",
    "\n",
    "    return Image.fromarray(canvas)\n",
    "\n",
    "\n",
    "label_file = \"train_data/XFUND/zh_val/val.json\"\n",
    "image_dir = \"train_data/XFUND/zh_val/image\"\n",
    "save_dir = \"train_data/XFUND/zh_val/label\"\n",
    "if not os.path.exists(save_dir):\n",
    "    os.makedirs(save_dir)\n",
    "with open(label_file, \"r\") as f:\n",
    "    lines = f.readlines()\n",
    "    for line in lines:\n",
    "        image_name, ocr_infos = line.strip().split(\"\\t\")\n",
    "        image_path = os.path.join(image_dir, image_name)\n",
    "        image = cv2.imread(image_path)\n",
    "        ocr_infos = json.loads(ocr_infos)\n",
    "        canvas = draw_labels(ocr_infos, image)\n",
    "        save_path = os.path.join(save_dir, image_name)\n",
    "        # canvas.save(save_path)\n",
    "\"\"\"\n",
    "(head, tail) -> (question, answer)\n",
    "一个 tail 对应一个 head\n",
    "一个 head 对应多个 tail\n",
    "\n",
    "\"\"\"\n"
   ]
  },
  {
   "cell_type": "code",
   "execution_count": 47,
   "metadata": {},
   "outputs": [],
   "source": [
    "my_relations = sorted(list(set(my_relations)))\n",
    "from collections import defaultdict\n",
    "groups = defaultdict(list)\n",
    "for head, tail in my_relations:\n",
    "    groups[tail].append(head)\n",
    "\n",
    "for tail, heads in groups.items():\n",
    "    if len(heads) > 1:\n",
    "        print(tail, heads)"
   ]
  }
 ],
 "metadata": {
  "kernelspec": {
   "display_name": "Python 3.8.13 ('paddle-ser')",
   "language": "python",
   "name": "python3"
  },
  "language_info": {
   "codemirror_mode": {
    "name": "ipython",
    "version": 3
   },
   "file_extension": ".py",
   "mimetype": "text/x-python",
   "name": "python",
   "nbconvert_exporter": "python",
   "pygments_lexer": "ipython3",
   "version": "3.8.13"
  },
  "orig_nbformat": 4,
  "vscode": {
   "interpreter": {
    "hash": "950fc1bb16e82bb0f5257bb28262b1465fdaab7a1bbf6752f2772d9b7b54f019"
   }
  }
 },
 "nbformat": 4,
 "nbformat_minor": 2
}
