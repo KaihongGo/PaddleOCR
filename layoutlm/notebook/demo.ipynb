{
 "cells": [
  {
   "cell_type": "code",
   "execution_count": 4,
   "metadata": {},
   "outputs": [
    {
     "name": "stdout",
     "output_type": "stream",
     "text": [
      "{'id': 'TW-K12-2SEK001ZE-001_page-180.png', 'uid': '636511018e0d849696aed988', 'document': [{'box': [830, 1309, 1461, 1447], 'label': 'HEADER', 'text': '产品合格证', 'words': [], 'linking': [], 'id': 0}, {'box': [1066, 1904, 1494, 1978], 'label': 'ANSWER', 'text': '2018年6月18日', 'words': [], 'linking': [[1, 9]], 'id': 1}, {'box': [2104, 3260, 2236, 3345], 'label': 'O', 'text': 178, 'words': [], 'linking': [], 'id': 2}, {'box': [1332, 2281, 1397, 2350], 'label': 'O', 'text': '印', 'words': [], 'linking': [], 'id': 3}, {'box': [785, 1798, 1053, 1887], 'label': 'QUESTION', 'text': '产品编号：', 'words': [], 'linking': [[4, 10]], 'id': 4}, {'box': [793, 1703, 1057, 1765], 'label': 'QUESTION', 'text': '产品型号：', 'words': [], 'linking': [[5, 11]], 'id': 5}, {'box': [797, 1594, 1222, 1667], 'label': 'O', 'text': '格准予出厂', 'words': [], 'linking': [], 'id': 6}, {'box': [893, 1513, 1484, 1583], 'label': 'O', 'text': '本产品经检查合', 'words': [], 'linking': [], 'id': 7}, {'box': [745, 1257, 875, 1305], 'label': 'O', 'text': '辰龍牌', 'words': [], 'linking': [], 'id': 8}, {'box': [789, 1900, 1052, 1989], 'label': 'QUESTION', 'text': '出厂日期：', 'words': [], 'linking': [[9, 1]], 'id': 9}, {'box': [1110, 1813, 1316, 1879], 'label': 'ANSWER', 'text': 18035, 'words': [], 'linking': [[10, 4]], 'id': 10}, {'box': [1088, 1700, 1423, 1774], 'label': 'ANSWER', 'text': '3009c130x4', 'words': [], 'linking': [[11, 5]], 'id': 11}, {'box': [859, 2075, 1457, 2176], 'label': 'O', 'text': '盖州水泵厂', 'words': [], 'linking': [], 'id': 12}], 'img': {'fname': 'TW-K12-2SEK001ZE-001_page-180.png', 'width': 2480, 'height': 3509}}\n"
     ]
    }
   ],
   "source": [
    "import json\n",
    "\n",
    "documents = json.load(open(\"train_data/anti_fake/train.json\"), encoding=\"utf-8\")\n",
    "for document in documents[\"documents\"]:"
   ]
  }
 ],
 "metadata": {
  "kernelspec": {
   "display_name": "Python 3.8.13 ('paddle-ser')",
   "language": "python",
   "name": "python3"
  },
  "language_info": {
   "codemirror_mode": {
    "name": "ipython",
    "version": 3
   },
   "file_extension": ".py",
   "mimetype": "text/x-python",
   "name": "python",
   "nbconvert_exporter": "python",
   "pygments_lexer": "ipython3",
   "version": "3.8.13"
  },
  "orig_nbformat": 4,
  "vscode": {
   "interpreter": {
    "hash": "950fc1bb16e82bb0f5257bb28262b1465fdaab7a1bbf6752f2772d9b7b54f019"
   }
  }
 },
 "nbformat": 4,
 "nbformat_minor": 2
}
